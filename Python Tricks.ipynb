{
 "cells": [
  {
   "cell_type": "markdown",
   "metadata": {},
   "source": [
    "# Miscellaneous Python Tricks\n",
    "This series of code snippets serve as examples for many small functionalities which might come handy during python programming"
   ]
  },
  {
   "cell_type": "code",
   "execution_count": 1,
   "metadata": {},
   "outputs": [],
   "source": [
    "# Import the required libraries\n",
    "import numpy as np"
   ]
  },
  {
   "cell_type": "markdown",
   "metadata": {},
   "source": [
    "## Use \"lambda\" keyword to define a short function object and assign a function handle along with an one line function definition following it. The syntax is as follows\n",
    "fn_handle = lambda param_1, param_2: fn_definition"
   ]
  },
  {
   "cell_type": "code",
   "execution_count": 2,
   "metadata": {},
   "outputs": [
    {
     "name": "stdout",
     "output_type": "stream",
     "text": [
      "Angle in Radians 0.97\n",
      "Angle in Degrees 55.52\n"
     ]
    }
   ],
   "source": [
    "# Compute angle between two vectors\n",
    "ang = lambda x,y: np.arccos(np.inner(x,y)/(np.linalg.norm(x)*np.linalg.norm(y)))\n",
    "a,b = [1,2,-1],[2,0,-3]\n",
    "print('Angle in Radians', round(ang(a,b),2))\n",
    "print('Angle in Degrees', round(ang(a,b)*(360/(2*np.pi)),2))"
   ]
  }
 ],
 "metadata": {
  "kernelspec": {
   "display_name": "Python 3",
   "language": "python",
   "name": "python3"
  },
  "language_info": {
   "codemirror_mode": {
    "name": "ipython",
    "version": 3
   },
   "file_extension": ".py",
   "mimetype": "text/x-python",
   "name": "python",
   "nbconvert_exporter": "python",
   "pygments_lexer": "ipython3",
   "version": "3.7.6"
  }
 },
 "nbformat": 4,
 "nbformat_minor": 4
}
