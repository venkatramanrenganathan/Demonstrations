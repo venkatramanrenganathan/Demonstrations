{
 "cells": [
  {
   "cell_type": "markdown",
   "metadata": {},
   "source": [
    "# How to Draw Ellipse of Covariance Matrix\n",
    "Given a 2x2 covariance matrix, I explain how to draw the ellipse representing it. The following function explains the method to visualize multivariate normal distributions and correlation matrices. Formulae for radii & rotation are provided for covariance matrix shown below\n",
    "\\begin{align}\n",
    "\\Sigma = \\begin{bmatrix} a & b \\\\ b & c \\end{bmatrix}\n",
    "\\end{align}"
   ]
  },
  {
   "attachments": {
    "ellipse.PNG": {
     "image/png": "[encoded data removed]"
    }
   },
   "cell_type": "markdown",
   "metadata": {},
   "source": [
    "## Radii and Rotation\n",
    "![ellipse.PNG](attachment:ellipse.PNG)\n",
    "\\begin{align}\n",
    "\\lambda_{1,2} &= \\frac{a+c}{2} \\pm \\sqrt{\\left( \\frac{a-c}{2} \\right)^{2} + b^{2}} \\\\\n",
    "\\theta &= \\begin{cases} 0 & \\text{ if } b = 0 \\text{ and } a \\geq c \\\\\n",
    " \\frac{\\pi}{2} & \\text{ if } b = 0 \\text{ and } a < c \\\\\n",
    " \\text{atan2}(\\lambda_{1} - a, b) & \\text{ if } b \\neq 0 \n",
    "\\end{cases}\n",
    "\\end{align}\n",
    "Here, $\\theta$ is the angle in radians from positive x-axis to the ellipse's major axis in the counterclockwise direction. $\\sqrt{\\lambda_{1}}$ is the radius of the major axis (the longer radius) and $\\sqrt{\\lambda_{2}}$ is the radius of the minor axis (shorter radius). In $atan2(\\cdot, \\cdot)$, the first parameter is $y$ and second is $x$."
   ]
  },
  {
   "cell_type": "code",
   "execution_count": 59,
   "metadata": {},
   "outputs": [],
   "source": [
    "import random\n",
    "import math\n",
    "import numpy as np\n",
    "import matplotlib.pyplot as plt\n",
    "import time\n",
    "from scipy.linalg import block_diag\n",
    "from scipy.special import erfinv\n",
    "from scipy.stats import t as tdist\n",
    "from numpy.linalg import inv\n",
    "from numpy import linalg as LA\n",
    "from matplotlib.patches import Ellipse"
   ]
  },
  {
   "cell_type": "code",
   "execution_count": 51,
   "metadata": {},
   "outputs": [],
   "source": [
    "def GetAngleAndRadii(covar):\n",
    "    \"\"\"\n",
    "    Given a covariance matrix, the function GetAngleAndRadii() calculates \n",
    "    the major axis and minor axis radii and the orientation of the ellipse.\n",
    "    \n",
    "    Inputs:\n",
    "    covar: 2x2 matrix\n",
    "    \n",
    "    Output:\n",
    "    major_radius: Radius of the major axis of ellipse\n",
    "    minor_radius: Radius of the minor axis of ellipse\n",
    "    theta       : Orientation angle in radians from positive x-axis\n",
    "                  to the ellipse's major axis in the counterclockwise direction\n",
    "    \"\"\"\n",
    "    \n",
    "    # Infer the a,b,c values\n",
    "    a = covar[0,0]\n",
    "    b = covar[0,1]\n",
    "    c = covar[1,1]\n",
    "    \n",
    "    if b > a:\n",
    "        raise Exception(\"Sorry, covariance matrix is invalid - Cov[0,1] should be < Cov[0,0] \")\n",
    "    \n",
    "    lambda_1 = (a+c)/2 + math.sqrt(((a-c)/2)**2 + b**2)\n",
    "    lambda_2 = (a+c)/2 - math.sqrt(((a-c)/2)**2 + b**2)\n",
    "    \n",
    "    # Infer the radii\n",
    "    major_radius = math.sqrt(lambda_1)\n",
    "    minor_radius = math.sqrt(lambda_2)\n",
    "    \n",
    "    # Infer the rotation\n",
    "    if b == 0:\n",
    "        if a >= c:\n",
    "            theta = 0\n",
    "        else:\n",
    "            theta = pi/2\n",
    "    else:\n",
    "        theta = math.atan2(lambda_1-a, b)\n",
    "    \n",
    "    return major_radius, minor_radius, theta\n",
    "    "
   ]
  },
  {
   "cell_type": "code",
   "execution_count": 8,
   "metadata": {},
   "outputs": [
    {
     "name": "stdout",
     "output_type": "stream",
     "text": [
      "major axis radius =  3.48 minor axis radius =  0.95 orientation =  0.55 rad\n"
     ]
    }
   ],
   "source": [
    "# Check the above code\n",
    "covar_check = np.array([[9,5],[5,4]])\n",
    "major_radius_check, minor_radius_check, theta_check = GetAngleAndRadii(covar_check)\n",
    "print('major axis radius = ', round(major_radius_check,2), \n",
    "      'minor axis radius = ', round(minor_radius_check,2), \n",
    "      'orientation = ', round(theta_check,2), 'rad')"
   ]
  },
  {
   "cell_type": "code",
   "execution_count": 70,
   "metadata": {},
   "outputs": [],
   "source": [
    "def plot_ellipse(center, cov = None):\n",
    "\n",
    "    # Get the center of ellipse\n",
    "    x_cent, y_cent = center\n",
    "    \n",
    "    print('center x at: ', x_cent)\n",
    "    print('center y at: ', y_cent)\n",
    "    \n",
    "    # Get Ellipse Properties from cov matrix\n",
    "    if cov is not None:\n",
    "        major_radius, minor_radius, theta_orient = GetAngleAndRadii(cov)\n",
    "        print('major axis radius = ', round(major_radius,2), \n",
    "              'minor axis radius = ', round(minor_radius,2), \n",
    "              'orientation = ', round(theta_orient,2), 'rad')\n",
    "        eig_vec,eig_val,u = np.linalg.svd(cov)\n",
    "\n",
    "    # Generate data for ellipse structure\n",
    "    t    = np.linspace(0,2*np.pi,1000)\n",
    "    x    = major_radius*np.cos(t)\n",
    "    y    = minor_radius*np.sin(t)\n",
    "    data = np.array([x,y])\n",
    "    R    = np.array([[np.cos(theta_orient),-np.sin(theta_orient)],\n",
    "                     [np.sin(theta_orient),np.cos(theta_orient)]])\n",
    "    T    = np.dot(R,eig_vec)\n",
    "    data = np.dot(T,data)\n",
    "    \n",
    "    # Center the ellipse at given center\n",
    "    data[0] += x_cent\n",
    "    data[1] += y_cent\n",
    "\n",
    "    # Plot the ellipse\n",
    "    fig,ax = plt.subplots()\n",
    "    ax.plot(data[0],data[1],color='b',linestyle='-')\n",
    "    ax.fill(data[0],data[1])"
   ]
  },
  {
   "cell_type": "code",
   "execution_count": 72,
   "metadata": {},
   "outputs": [
    {
     "name": "stdout",
     "output_type": "stream",
     "text": [
      "center x at:  1\n",
      "center y at:  2\n",
      "major axis radius =  3.32 minor axis radius =  1.0 orientation =  0.46 rad\n"
     ]
    },
    {
     "data": {
      "image/png": "[encoded data removed]",
      "text/plain": [
       "<Figure size 432x288 with 1 Axes>"
      ]
     },
     "metadata": {
      "needs_background": "light"
     },
     "output_type": "display_data"
    }
   ],
   "source": [
    "covar_check = np.array([[9,4],[4,3]])\n",
    "plot_ellipse(center = (1,2), cov=covar_check)"
   ]
  },
  {
   "cell_type": "code",
   "execution_count": null,
   "metadata": {},
   "outputs": [],
   "source": []
  }
 ],
 "metadata": {
  "kernelspec": {
   "display_name": "Python 3",
   "language": "python",
   "name": "python3"
  },
  "language_info": {
   "codemirror_mode": {
    "name": "ipython",
    "version": 3
   },
   "file_extension": ".py",
   "mimetype": "text/x-python",
   "name": "python",
   "nbconvert_exporter": "python",
   "pygments_lexer": "ipython3",
   "version": "3.7.6"
  }
 },
 "nbformat": 4,
 "nbformat_minor": 4
}
