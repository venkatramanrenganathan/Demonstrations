{
 "cells": [
  {
   "cell_type": "markdown",
   "metadata": {},
   "source": [
    "# Numpy Tricks to keep in mind while coding\n",
    "This jupyter notebook is intended to keep track of list of small tricks while coding numpy arrays\n",
    " - Vectors are denoted by small letters, say a, b\n",
    " - Matrices are denoted by capital letters say A, B "
   ]
  },
  {
   "cell_type": "code",
   "execution_count": 1,
   "metadata": {},
   "outputs": [],
   "source": [
    "# Import the required libraries\n",
    "import numpy as np"
   ]
  },
  {
   "cell_type": "markdown",
   "metadata": {},
   "source": [
    "### Create Numpy arrays of desired shape"
   ]
  },
  {
   "cell_type": "code",
   "execution_count": 14,
   "metadata": {},
   "outputs": [
    {
     "name": "stdout",
     "output_type": "stream",
     "text": [
      "Numpy Array a = [1 2 3 4 5]\n",
      "Shape of numpy array a is  (5,)\n",
      "Number of elements in array a = 5\n"
     ]
    }
   ],
   "source": [
    "a = np.array([1,2,3,4,5])\n",
    "print('Numpy Array a =', a)\n",
    "print('Shape of numpy array a is ', a.shape)\n",
    "print('Number of elements in array a =', a.shape[0])"
   ]
  },
  {
   "cell_type": "markdown",
   "metadata": {},
   "source": [
    "### Create Numpy arrays of ones and zeros"
   ]
  },
  {
   "cell_type": "code",
   "execution_count": 5,
   "metadata": {},
   "outputs": [
    {
     "name": "stdout",
     "output_type": "stream",
     "text": [
      "a =  [1. 1. 1. 1. 1.]\n",
      "b =  [0. 0. 0. 0. 0.]\n",
      "Shape of numpy array a is  (5,)\n",
      "Shape of numpy array b is  (5,)\n"
     ]
    }
   ],
   "source": [
    "a = np.ones(5)\n",
    "b = np.zeros(5)\n",
    "print('a = ', a)\n",
    "print('b = ', b)\n",
    "print('Shape of numpy array a is ', a.shape)\n",
    "print('Shape of numpy array b is ', b.shape)"
   ]
  },
  {
   "cell_type": "markdown",
   "metadata": {},
   "source": [
    "### Create row vectors & column vectors\n",
    "It is upto us to reshape the above numpy array as either row vector or a column vector depending upon our needs. Let us now see how to reshape them into row vector and a column vector respectively."
   ]
  },
  {
   "cell_type": "code",
   "execution_count": 31,
   "metadata": {},
   "outputs": [
    {
     "name": "stdout",
     "output_type": "stream",
     "text": [
      "a =  [1. 1. 1. 1. 1.]\n",
      "Shape of original numpy array a is  (5,)\n",
      "b =  [[1.]\n",
      " [1.]\n",
      " [1.]\n",
      " [1.]\n",
      " [1.]]\n",
      "Shape of numpy array b is  (5, 1)\n",
      "c = b.T = [[1. 1. 1. 1. 1.]]\n",
      "Shape of numpy array c is  (1, 5)\n",
      "c = [[1 2 3 4 5]]\n",
      "Shape of numpy array c is  (1, 5)\n"
     ]
    }
   ],
   "source": [
    "# Create the original numpy array\n",
    "a = np.ones(5)\n",
    "print('a = ', a)\n",
    "print('Shape of original numpy array a is ', a.shape)\n",
    "\n",
    "# Create a column vector out of a\n",
    "b = np.ones(5).reshape(-1, 1)  # or equivalently b = a.reshape(-1, 1) will do the same\n",
    "print('b = ', b)\n",
    "print('Shape of numpy array b is ', b.shape)\n",
    "# Transpose it to see the shape and array value\n",
    "c = b.T\n",
    "print('c = b.T =', c)\n",
    "print('Shape of numpy array c is ', c.shape)\n",
    "\n",
    "# Above c is also a row vector - however, we can directly create a row vector as follows\n",
    "c = np.array([1,2,3,4,5]).reshape(1,-1)\n",
    "print('c =', c)\n",
    "print('Shape of numpy array c is ', c.shape)"
   ]
  },
  {
   "cell_type": "markdown",
   "metadata": {},
   "source": [
    "### Inner and outer products of vectors\n",
    " - Inner product of vectors $a, b$ is denoted by $<a,b> = a^{\\top}b$ and it is a scalar\n",
    " - Outer product of vectors $a, b \\in \\mathbb{R}^{n}$ is denoted by $a \\otimes b = a b^{\\top}$ and it is a matrix of size $n \\times n$\n",
    " - Also $<a,b> = \\sum (trace(a \\otimes b))$"
   ]
  },
  {
   "cell_type": "code",
   "execution_count": 72,
   "metadata": {},
   "outputs": [
    {
     "name": "stdout",
     "output_type": "stream",
     "text": [
      "a =  [[1]\n",
      " [2]\n",
      " [3]\n",
      " [4]\n",
      " [5]]\n",
      "Shape of numpy array a is  (5, 1)\n",
      "b =  [[10]\n",
      " [20]\n",
      " [30]\n",
      " [40]\n",
      " [50]]\n",
      "Shape of numpy array b is  (5, 1)\n",
      "c = a.T*b = [[550]]\n",
      "Shape of inner product c is (1, 1)\n",
      "D = a*b.T = [[ 10  20  30  40  50]\n",
      " [ 20  40  60  80 100]\n",
      " [ 30  60  90 120 150]\n",
      " [ 40  80 120 160 200]\n",
      " [ 50 100 150 200 250]]\n",
      "Shape of outer product D is (5, 5)\n",
      "f = sum(trace(outerproduct(a,b))) is 550\n"
     ]
    }
   ],
   "source": [
    "# Create a column vector\n",
    "a = np.array([1,2,3,4,5]).reshape(-1,1)\n",
    "print('a = ', a)\n",
    "print('Shape of numpy array a is ', a.shape)\n",
    "\n",
    "# Create another column vector\n",
    "b = np.array([10,20,30,40,50]).reshape(-1,1)\n",
    "print('b = ', b)\n",
    "print('Shape of numpy array b is ', b.shape)\n",
    "\n",
    "# Do inner product\n",
    "c = np.dot(a.T, b)\n",
    "print('c = a.T*b =', c)\n",
    "print('Shape of inner product c is', c.shape)\n",
    "\n",
    "# Do outer product\n",
    "D = np.outer(a,b) # Or equivalently np.dot(a, b.T) would still give the same result\n",
    "print('D = a*b.T =', D)\n",
    "print('Shape of outer product D is', D.shape)\n",
    "\n",
    "# Inferring inner product out of outer product\n",
    "# Inner product = sum(trace(outerproduct(a,b)))\n",
    "f = np.sum(np.trace(np.outer(a,b)))\n",
    "print('f = sum(trace(outerproduct(a,b))) is', f)"
   ]
  },
  {
   "cell_type": "markdown",
   "metadata": {},
   "source": [
    "## Convert back and forth between numpy array and list"
   ]
  },
  {
   "cell_type": "code",
   "execution_count": 34,
   "metadata": {},
   "outputs": [
    {
     "name": "stdout",
     "output_type": "stream",
     "text": [
      "List a =  [1, 2, 3, 4, 5]\n",
      "Numpy array of list a is b = [1 2 3 4 5]\n",
      "The list corresponding to numpy array b is c = [1, 2, 3, 4, 5]\n"
     ]
    }
   ],
   "source": [
    "# Convert list to numpy array\n",
    "a = [1,2,3,4,5]\n",
    "print('List a = ', a)\n",
    "b = np.array(a)\n",
    "print('Numpy array of list a is b =', b)\n",
    "\n",
    "# Convert numpy array to list\n",
    "c = b.tolist() # here b is a numpy array constructed as above\n",
    "print('The list corresponding to numpy array b is c =', c)"
   ]
  },
  {
   "cell_type": "markdown",
   "metadata": {},
   "source": [
    "## Analyze matrices as n-d numpy arrays"
   ]
  },
  {
   "cell_type": "code",
   "execution_count": 42,
   "metadata": {},
   "outputs": [
    {
     "name": "stdout",
     "output_type": "stream",
     "text": [
      "Matrix A Defined Using Numpy Array is [[1 2 3]\n",
      " [4 5 6]\n",
      " [7 8 9]]\n",
      "Size of matrix A is (3, 3) That is: 3 rows and 3 columns\n"
     ]
    }
   ],
   "source": [
    "A = np.array([[1,2,3],\n",
    "              [4,5,6],\n",
    "              [7,8,9]])\n",
    "print('Matrix A Defined Using Numpy Array is', A)\n",
    "print('Size of matrix A is', A.shape, 'That is:', A.shape[0],'rows and', A.shape[1], 'columns')"
   ]
  },
  {
   "cell_type": "markdown",
   "metadata": {},
   "source": [
    "## Create Matrix of ones and zeros or required size"
   ]
  },
  {
   "cell_type": "code",
   "execution_count": 56,
   "metadata": {},
   "outputs": [
    {
     "name": "stdout",
     "output_type": "stream",
     "text": [
      "A =  [[1. 1. 1. 1.]\n",
      " [1. 1. 1. 1.]\n",
      " [1. 1. 1. 1.]]\n",
      "Shape of A is (3, 4)\n",
      "B =  [[0. 0. 0. 0.]\n",
      " [0. 0. 0. 0.]\n",
      " [0. 0. 0. 0.]]\n",
      "Shape of B is (3, 4)\n",
      "Transpose of matrix A will be of shape (4, 3) and is given by [[1. 1. 1.]\n",
      " [1. 1. 1.]\n",
      " [1. 1. 1.]\n",
      " [1. 1. 1.]]\n"
     ]
    }
   ],
   "source": [
    "# Specify Matrix Size\n",
    "m = 3\n",
    "n = 4\n",
    "# Matrix of ones with m rows and n columns\n",
    "A = np.ones((m,n))\n",
    "# Matrix of zeros with m rows and n columns\n",
    "B = np.zeros((m,n))\n",
    "print('A = ', A)\n",
    "print('Shape of A is', A.shape)\n",
    "print('B = ', B)\n",
    "print('Shape of B is', B.shape)\n",
    "\n",
    "# Create transpose of matrix\n",
    "C = A.T # or np.transpose(A) or A.transpose() will give the same answer\n",
    "print('Transpose of matrix A will be of shape', C.shape, 'and is given by', C)"
   ]
  },
  {
   "cell_type": "markdown",
   "metadata": {},
   "source": [
    "## Multiply two matrices\n",
    "Both A @ B and np.dot(A, B) will do the same job"
   ]
  },
  {
   "cell_type": "code",
   "execution_count": 51,
   "metadata": {},
   "outputs": [
    {
     "name": "stdout",
     "output_type": "stream",
     "text": [
      "A*B = [[0.33976145 0.27559023 0.26318764 0.25707438]\n",
      " [0.31638135 0.29658541 0.24483385 0.2450245 ]\n",
      " [1.11846119 0.71297346 0.81610689 0.92495537]]\n",
      "A*B = [[0.33976145 0.27559023 0.26318764 0.25707438]\n",
      " [0.31638135 0.29658541 0.24483385 0.2450245 ]\n",
      " [1.11846119 0.71297346 0.81610689 0.92495537]]\n"
     ]
    }
   ],
   "source": [
    "A = np.random.rand(3,3)\n",
    "B = np.random.rand(3,4)\n",
    "C = A @ B\n",
    "D = np.dot(A,B) \n",
    "print('A*B =', C)\n",
    "print('A*B =', D)"
   ]
  },
  {
   "cell_type": "markdown",
   "metadata": {},
   "source": [
    "## Element wise multiplication of two matrices - Hadamard product of two matrices"
   ]
  },
  {
   "cell_type": "code",
   "execution_count": 58,
   "metadata": {},
   "outputs": [
    {
     "name": "stdout",
     "output_type": "stream",
     "text": [
      "Hadamard product of A,B is [[ 5. 10.]\n",
      " [15. 20.]]\n"
     ]
    }
   ],
   "source": [
    "A = np.array([[1,2],[3,4]])\n",
    "B = 5*np.ones((2,2))\n",
    "C = np.multiply(A,B)\n",
    "print('Hadamard product of A,B is', C)"
   ]
  },
  {
   "cell_type": "markdown",
   "metadata": {},
   "source": [
    "## Get Rank of Matrix"
   ]
  },
  {
   "cell_type": "code",
   "execution_count": 50,
   "metadata": {},
   "outputs": [
    {
     "name": "stdout",
     "output_type": "stream",
     "text": [
      "A =  [[0.71235426 0.70333479 0.7605381 ]\n",
      " [0.88975069 0.7361289  0.1064568 ]\n",
      " [0.86966123 0.97953876 0.81880405]]\n",
      "Rank of Matrix A is 3\n"
     ]
    }
   ],
   "source": [
    "A = np.random.rand(3,3)\n",
    "print('A = ', A)\n",
    "rank_A = np.linalg.matrix_rank(A)\n",
    "print('Rank of Matrix A is', rank_A)"
   ]
  },
  {
   "cell_type": "markdown",
   "metadata": {},
   "source": [
    "## Multiply matrix by vector of matching dimensions"
   ]
  },
  {
   "cell_type": "code",
   "execution_count": 81,
   "metadata": {},
   "outputs": [
    {
     "name": "stdout",
     "output_type": "stream",
     "text": [
      "b =  [[ 6.]\n",
      " [15.]\n",
      " [24.]]\n",
      "c =  [[12. 15. 18.]]\n",
      "d =  [[45.]]\n",
      "f =  45.0\n",
      "g =  [ 6. 15. 24.]\n",
      "h =  [12. 15. 18.]\n",
      "Size of g: (3,) Size of h (3,)\n"
     ]
    }
   ],
   "source": [
    "A = np.array([[1,2,3],\n",
    "              [4,5,6],\n",
    "              [7,8,9]])\n",
    "v = np.ones((3,1))\n",
    "b = A@v         # np.dot(A,v)\n",
    "print('b = ', b)\n",
    "c = v.T @ A     # np.dot(v.T,A)\n",
    "print('c = ', c)\n",
    "d = v.T @ A @ v # np.dot(v.T, np.dot(A, v))\n",
    "print('d = ', d)\n",
    "# Recall that d is a scalar here but answer will give a 1x1 matrix. \n",
    "# To infer it as a scalar, just squeeze it\n",
    "f = np.squeeze(v.T @ A @ v)\n",
    "print('f = ', f)\n",
    "# We can even squeeze the row vectors and column vectors to just get the 1D numpy array\n",
    "g = b.squeeze()\n",
    "h = c.squeeze()\n",
    "print('g = ', g)\n",
    "print('h = ', h)\n",
    "print('Size of g:', g.shape, 'Size of h', h.shape)"
   ]
  },
  {
   "cell_type": "markdown",
   "metadata": {},
   "source": [
    "## Indexing a specific column and a row of a matrix\n"
   ]
  },
  {
   "cell_type": "code",
   "execution_count": 71,
   "metadata": {},
   "outputs": [
    {
     "name": "stdout",
     "output_type": "stream",
     "text": [
      "A =  [[1 2 3]\n",
      " [4 5 6]\n",
      " [7 8 9]]\n",
      "second row is [[4 5 6]]\n",
      "third column is [[3]\n",
      " [6]\n",
      " [9]]\n"
     ]
    }
   ],
   "source": [
    "A = np.array([[1,2,3],\n",
    "              [4,5,6],\n",
    "              [7,8,9]])\n",
    "print('A = ', A)\n",
    "# Extract the second row and third column of A\n",
    "# Reshape them to maintain the consistency of dimension\n",
    "b = A[1,:].reshape(1,-1)\n",
    "c = A[:,2].reshape(-1,1)\n",
    "print('second row is', b)\n",
    "print('third column is', c)"
   ]
  },
  {
   "cell_type": "code",
   "execution_count": null,
   "metadata": {},
   "outputs": [],
   "source": []
  }
 ],
 "metadata": {
  "kernelspec": {
   "display_name": "Python 3",
   "language": "python",
   "name": "python3"
  },
  "language_info": {
   "codemirror_mode": {
    "name": "ipython",
    "version": 3
   },
   "file_extension": ".py",
   "mimetype": "text/x-python",
   "name": "python",
   "nbconvert_exporter": "python",
   "pygments_lexer": "ipython3",
   "version": "3.7.6"
  }
 },
 "nbformat": 4,
 "nbformat_minor": 4
}
